{
 "cells": [
  {
   "cell_type": "code",
   "execution_count": null,
   "id": "a433ef93",
   "metadata": {},
   "outputs": [],
   "source": [
    "number=int(input(\"enter a no\"))\n",
    "if number>0:\n",
    "    print(\"positive\")\n",
    "elif number<0:\n",
    "    print(\"negative\")\n",
    "elif number==0:\n",
    "    print(\"0\")"
   ]
  },
  {
   "cell_type": "code",
   "execution_count": null,
   "id": "9f46512a",
   "metadata": {},
   "outputs": [],
   "source": []
  }
 ],
 "metadata": {
  "kernelspec": {
   "display_name": "Python 3 (ipykernel)",
   "language": "python",
   "name": "python3"
  },
  "language_info": {
   "codemirror_mode": {
    "name": "ipython",
    "version": 3
   },
   "file_extension": ".py",
   "mimetype": "text/x-python",
   "name": "python",
   "nbconvert_exporter": "python",
   "pygments_lexer": "ipython3",
   "version": "3.9.15"
  }
 },
 "nbformat": 4,
 "nbformat_minor": 5
}
